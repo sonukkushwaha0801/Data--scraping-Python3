{
 "cells": [
  {
   "cell_type": "code",
   "execution_count": 10,
   "metadata": {},
   "outputs": [],
   "source": [
    "from selenium import webdriver\n",
    "from selenium.webdriver.common.keys import Keys\n",
    "from selenium.webdriver.common.by import By\n",
    "from bs4 import BeautifulSoup\n",
    "import time"
   ]
  },
  {
   "cell_type": "code",
   "execution_count": 11,
   "metadata": {},
   "outputs": [
    {
     "name": "stdout",
     "output_type": "stream",
     "text": [
      "Artist Nishtha Singh - YouTube\n"
     ]
    }
   ],
   "source": [
    "URL = 'https://www.youtube.com/@NishthaSingh-ww2hx/shorts'\n",
    "browser = webdriver.Chrome()\n",
    "browser.get(URL)\n",
    "browser.maximize_window()\n",
    "print(browser.title)\n",
    "channel_name = browser.title\n",
    "for _ in range (2):\n",
    "    browser.find_element(By.TAG_NAME,'body').send_keys(Keys.END)\n",
    "    time.sleep(3)\n",
    "HTML = browser.page_source\n",
    "browser.quit()\n"
   ]
  },
  {
   "cell_type": "code",
   "execution_count": 12,
   "metadata": {},
   "outputs": [
    {
     "name": "stdout",
     "output_type": "stream",
     "text": [
      "#Hyper realistic drawing #viral#artist .. 513 views\n",
      "\n",
      "\n",
      "Hyper Realistic eyes ♥️♥️ #drawing # follow me for more realistic artwork 106 views\n",
      "\n",
      "\n",
      "Deepika Padukone sketch #artist  #viral #artwork 509 views\n",
      "\n",
      "\n",
      "Shahrukh Khan realistic sketch #artist #viralshort 347 views\n",
      "\n",
      "\n",
      "Easy sketch of Indian Women#drawing #viral #art 541 views\n",
      "\n",
      "\n",
      "Shahrukh Khan sketch #viral King khan... 151 views\n",
      "\n",
      "\n",
      "#Lata Mangeshkar ♥️♥️ # Queen of Melody ,Nightingale of India...... 677 views\n",
      "\n",
      "\n",
      "Happy Navratra ! Finally our Protector came ....... 304 views\n",
      "\n",
      "\n",
      "#Virat kohli ❣️❣️ # Proud of our India...... 362 views\n",
      "\n",
      "\n",
      "# Shaheer Sheikh ❣️❣️# In the character of Arjuna ♥️ 619 views\n",
      "\n",
      "\n",
      "#Mahatma Gandhi # Father of the Nation #Happy Gandhi Jayanti to all of you guys.... 488 views\n",
      "\n",
      "\n",
      "#Lord Budhha # The Light of the Asia ....... 1.2K views\n",
      "\n",
      "\n",
      "28 September 2023 972 views\n",
      "\n",
      "\n"
     ]
    }
   ],
   "source": [
    "soup = BeautifulSoup(HTML)\n",
    "f=open(f'{channel_name}-shorts.csv','wb')\n",
    "f.write('Shorts Name,Views\\n'.encode())\n",
    "for video in soup.find_all('div', id='dismissible'):\n",
    "    title = video.find('h3').text.strip().replace(',',' ')\n",
    "    meta = video.find('div',{'id':'metadata-line'}).find_all('span')\n",
    "    Views = meta[0].text\n",
    "    print(title,Views)\n",
    "    f.write(f'{title},{Views}\\n'.encode())\n",
    "    print(\"\\n\")\n",
    "f.close()\n"
   ]
  },
  {
   "cell_type": "code",
   "execution_count": null,
   "metadata": {},
   "outputs": [],
   "source": []
  }
 ],
 "metadata": {
  "kernelspec": {
   "display_name": "Python 3",
   "language": "python",
   "name": "python3"
  },
  "language_info": {
   "codemirror_mode": {
    "name": "ipython",
    "version": 3
   },
   "file_extension": ".py",
   "mimetype": "text/x-python",
   "name": "python",
   "nbconvert_exporter": "python",
   "pygments_lexer": "ipython3",
   "version": "3.11.5"
  }
 },
 "nbformat": 4,
 "nbformat_minor": 2
}
