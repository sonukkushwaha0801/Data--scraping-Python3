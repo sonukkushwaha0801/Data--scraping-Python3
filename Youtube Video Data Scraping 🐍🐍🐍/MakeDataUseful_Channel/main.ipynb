{
 "cells": [
  {
   "cell_type": "code",
   "execution_count": 5,
   "metadata": {},
   "outputs": [],
   "source": [
    "from selenium import webdriver\n",
    "from selenium.webdriver.common.keys import Keys\n",
    "from selenium.webdriver.common.by import By\n",
    "from selenium.webdriver.support.ui import WebDriverWait\n",
    "import time\n",
    "from bs4 import BeautifulSoup"
   ]
  },
  {
   "cell_type": "code",
   "execution_count": 6,
   "metadata": {},
   "outputs": [
    {
     "name": "stdout",
     "output_type": "stream",
     "text": [
      "Channel_name: Make Data Useful\n",
      "subscribers: 27.5K\n",
      "number_of_video: 57\n"
     ]
    }
   ],
   "source": [
    "browser = webdriver.Chrome()\n",
    "browser.get('https://www.youtube.com/@MakeDataUseful/videos')\n",
    "click_first= browser.find_element(By.CSS_SELECTOR,'body')\n",
    "browser.maximize_window()\n",
    "Channel_name = browser.find_element(By.XPATH,'//*[@id=\"channel-name\"]').text\n",
    "subscribe =browser.find_element(By.XPATH,'//*[@id=\"subscriber-count\"]').text.split(\" \")[0]\n",
    "number_of_video = browser.find_element(By.CSS_SELECTOR,'#videos-count > span:nth-child(1)').text\n",
    "print(\"Channel_name:\",Channel_name)\n",
    "print(\"subscribers:\",subscribe)\n",
    "print(\"number_of_video:\",number_of_video)\n",
    "Channel_name = browser.title\n",
    "for _ in range(4):\n",
    "    click_first.send_keys(Keys.SPACE)\n",
    "    time.sleep(3)\n",
    "\n",
    "html = browser.page_source\n",
    "browser.quit()"
   ]
  },
  {
   "cell_type": "code",
   "execution_count": 7,
   "metadata": {},
   "outputs": [
    {
     "name": "stdout",
     "output_type": "stream",
     "text": [
      "6 minutes  2 seconds\n",
      "35 minutes  15 seconds\n",
      "1 minute  22 seconds\n",
      "28 minutes  12 seconds\n",
      "44 minutes  17 seconds\n",
      "3 minutes  17 seconds\n",
      "29 minutes  3 seconds\n",
      "34 minutes  22 seconds\n",
      "13 minutes  56 seconds\n",
      "8 minutes  2 seconds\n",
      "12 minutes  49 seconds\n",
      "1 minute  57 seconds\n",
      "24 minutes  50 seconds\n",
      "17 minutes  57 seconds\n",
      "6 minutes  54 seconds\n",
      "23 minutes  27 seconds\n",
      "27 minutes  4 seconds\n",
      "13 minutes  42 seconds\n",
      "37 minutes  24 seconds\n",
      "37 minutes  16 seconds\n",
      "28 minutes  48 seconds\n",
      "12 minutes  5 seconds\n",
      "33 minutes  56 seconds\n",
      "30 minutes  29 seconds\n",
      "30 minutes  21 seconds\n",
      "18 minutes  43 seconds\n",
      "14 minutes\n",
      "14 minutes  55 seconds\n",
      "20 minutes  16 seconds\n",
      "20 minutes  52 seconds\n",
      "11 minutes  58 seconds\n"
     ]
    },
    {
     "data": {
      "text/plain": [
       "31"
      ]
     },
     "execution_count": 7,
     "metadata": {},
     "output_type": "execute_result"
    }
   ],
   "source": [
    "soup = BeautifulSoup(html)\n",
    "Full_Video_names = []\n",
    "time_duration = []\n",
    "no_of_views_list = []\n",
    "\n",
    "for video in soup.find_all('div',{'class':'style-scope ytd-rich-grid-media'}):\n",
    "    Full_video_name = video.find('yt-formatted-string',{'class':'style-scope ytd-rich-grid-media'})\n",
    "    if Full_video_name==None:\n",
    "        continue\n",
    "    Full_video_name = Full_video_name.text.replace(\",\",\" \")\n",
    "    if Full_video_name in Full_Video_names:\n",
    "        continue\n",
    "    Full_Video_names.append(Full_video_name)\n",
    "    # Time duration:\n",
    "    time_of_video = video.find('span',{'class':'style-scope ytd-thumbnail-overlay-time-status-renderer'})\n",
    "    if time_of_video==None:\n",
    "        continue\n",
    "    time_of_video = str(time_of_video).split(\"\\\"\")[1].replace(\",\",\" \")\n",
    "    time_duration.append(time_of_video)\n",
    "    print(time_of_video)\n",
    "\n",
    "    # Numbers of views:\n",
    "    no_of_views = video.find('span',{'class':'inline-metadata-item style-scope ytd-video-meta-block'})\n",
    "    if no_of_views==None:\n",
    "        continue\n",
    "    no_of_views = no_of_views.text\n",
    "    no_of_views_list.append(no_of_views)\n",
    "    \n",
    "    \n",
    "links=[]\n",
    "for link in soup.find_all('a',{'class':'yt-simple-endpoint inline-block style-scope ytd-thumbnail'}):\n",
    "    if link.get('href')==None:\n",
    "        continue\n",
    "    links.append(\"https://www.youtube.com{}\".format(link.get('href')))\n",
    "len(Full_Video_names)\n"
   ]
  },
  {
   "cell_type": "code",
   "execution_count": 8,
   "metadata": {},
   "outputs": [],
   "source": [
    "f=open(f'{Channel_name}.csv','wb')\n",
    "f.write('Full_video_name,Time_Duration,Number_of_viewsLinks\\n'.encode())\n",
    "for i in range(len(Full_Video_names)):\n",
    "    f.write((Full_Video_names[i]+\",\"+time_duration[i]+\",\"+no_of_views_list[i]+\",\"+links[i]+\"\\n\").encode())\n",
    "f.close()\n"
   ]
  },
  {
   "cell_type": "code",
   "execution_count": null,
   "metadata": {},
   "outputs": [],
   "source": []
  }
 ],
 "metadata": {
  "kernelspec": {
   "display_name": "Python 3",
   "language": "python",
   "name": "python3"
  },
  "language_info": {
   "codemirror_mode": {
    "name": "ipython",
    "version": 3
   },
   "file_extension": ".py",
   "mimetype": "text/x-python",
   "name": "python",
   "nbconvert_exporter": "python",
   "pygments_lexer": "ipython3",
   "version": "3.11.5"
  }
 },
 "nbformat": 4,
 "nbformat_minor": 2
}
