{
 "cells": [
  {
   "cell_type": "markdown",
   "metadata": {},
   "source": [
    "### Extracting Data From http://www.amazom.in and extracting Best Mobile Phone Details"
   ]
  },
  {
   "cell_type": "code",
   "execution_count": 2,
   "metadata": {},
   "outputs": [],
   "source": [
    "# Importing important libraries for data scraping\n",
    "from  urllib.request import urlopen\n",
    "from bs4 import BeautifulSoup as soup\n",
    "import re\n",
    "import pandas as pd\n",
    "import numpy as np"
   ]
  },
  {
   "cell_type": "code",
   "execution_count": 15,
   "metadata": {},
   "outputs": [],
   "source": [
    "response = urlopen('https://www.amazon.in/s?k=best+mobile+phone&crid=3KPAUX4L2CVKH&qid=1696695405&sprefix=best+mobile+phoone%2Caps%2C235&ref=sr_pg_1')\n",
    "webdata = response.read()"
   ]
  },
  {
   "cell_type": "code",
   "execution_count": 16,
   "metadata": {},
   "outputs": [
    {
     "data": {
      "text/plain": [
       "16"
      ]
     },
     "execution_count": 16,
     "metadata": {},
     "output_type": "execute_result"
    }
   ],
   "source": [
    "soup_data = soup(webdata)\n",
    "container = soup_data.findAll('div', {'class':'puis-card-container s-card-container s-overflow-hidden aok-relative puis-include-content-margin puis puis-v3vtwxgppca0z12v18v51zrqona s-latency-cf-section s-card-border'})\n",
    "len(container)"
   ]
  },
  {
   "cell_type": "code",
   "execution_count": 74,
   "metadata": {},
   "outputs": [
    {
     "name": "stdout",
     "output_type": "stream",
     "text": [
      "Samsung Galaxy M13  9199 14999 4.1\n",
      "iQOO Z7 Pro 5G  24999 27999 4.3\n",
      "Samsung Galaxy M04 Dark Blue 6499 11999 3.9\n",
      "realme narzo 60 Pro  21249 26999 4.1\n",
      "Redmi A2  6199 9999 3.8\n",
      "Realme GT Neo 3  25899 41999 4.2\n",
      "Samsung Galaxy M04 Light Green 7499 13499 3.9\n",
      "realme narzo N53  7999 10999 3.9\n",
      "Samsung Galaxy S23 5G  79999 95999 4.5\n",
      "Redmi A2  6199 9999 3.8\n",
      "realme narzo 60 5G  18499 20999 4.1\n",
      "OnePlus Nord CE 3 Lite 5G  19999  4.1\n",
      "Vivo Y02t  8999 15999 4.0\n",
      "OnePlus Nord CE 3 5G  28999  4.0\n",
      "Xiaomi Redmi 10 Power  10999 18999 4.1\n",
      "Samsung Galaxy M13  9199 14999 4.1\n"
     ]
    }
   ],
   "source": [
    "for contain in container:\n",
    "    product_name = contain.find('span',{'class':'a-size-medium a-color-base a-text-normal'})\n",
    "    temp_name = product_name.text.split(\",\")[0]\n",
    "    Final_name = temp_name.split(\"(\")[0]\n",
    "    \n",
    "    mrp = contain.find('span',{'class':'a-price-whole'})\n",
    "    MRP = mrp.text.replace(\",\",\"\")\n",
    "    \n",
    "\n",
    "    price = contain.find('span',{'class':'a-price a-text-price'})\n",
    "    try:\n",
    "        Price = price.text.split('₹')[1].replace(\",\",\"\")\n",
    "    except:\n",
    "        Price = \"\"\n",
    "    \n",
    "    # Ratings \n",
    "    rating = contain.find('span',{'class':'a-icon-alt'})\n",
    "    Rating = rating.text.split()[0]\n",
    "    print(Final_name,MRP,Price,Rating)\n"
   ]
  },
  {
   "cell_type": "code",
   "execution_count": 130,
   "metadata": {},
   "outputs": [
    {
     "name": "stdout",
     "output_type": "stream",
     "text": [
      "Samsung Galaxy M13  9199 14999 4.1 https://m.media-amazon.com/images/I/81-fFXQdPTL._AC_UY218_.jpg https://www.amazon.in//Samsung-Galaxy-Storage-6000mAh-Battery/dp/B0B4F2TTTS\n",
      "\n",
      "\n",
      "iQOO Z7 Pro 5G  24999 27999 4.3 https://m.media-amazon.com/images/I/6196XqJjUZL._AC_UY218_.jpg https://www.amazon.in//iQOO-Graphite-MediaTek-Processor-Smartphone/dp/B07WFPLDPR\n",
      "\n",
      "\n",
      "Samsung Galaxy M04 Dark Blue 6499 11999 3.9 https://m.media-amazon.com/images/I/81t6Av5DvXL._AC_UY218_.jpg https://www.amazon.in//Samsung-Storage-MediaTek-Octa-core-Processor/dp/B0BMGB3CH9\n",
      "\n",
      "\n",
      "realme narzo 60 Pro  21249 26999 4.1 https://m.media-amazon.com/images/I/81ZV6G2iRrL._AC_UY218_.jpg https://www.amazon.in//realme-Cosmic-Smooth-Amoled-Display/dp/B0C7895BJ9\n",
      "\n",
      "\n",
      "Redmi A2  6199 9999 3.8 https://m.media-amazon.com/images/I/810-BAwpF9L._AC_UY218_.jpg https://www.amazon.in//Redmi-Classic-Black-64GB-Storage/dp/B0C74KRMHW\n",
      "\n",
      "\n",
      "Realme GT Neo 3  25899 41999 4.2 https://m.media-amazon.com/images/I/71JPbL+lnXL._AC_UY218_.jpg https://www.amazon.in//Realme-Sprint-White-256GB-Storage/dp/B09ZHWW75Y\n",
      "\n",
      "\n",
      "Samsung Galaxy M04 Light Green 7499 13499 3.9 https://m.media-amazon.com/images/I/814ePfNubRL._AC_UY218_.jpg https://www.amazon.in//Samsung-Storage-MediaTek-Octa-core-Processor/dp/B0BMGC6LHP\n",
      "\n",
      "\n",
      "realme narzo N53  7999 10999 3.9 https://m.media-amazon.com/images/I/71DSxfKzkJL._AC_UY218_.jpg https://www.amazon.in//realme-Feather-Segment-Charging-Slimmest/dp/B0C45VWDWJ\n",
      "\n",
      "\n",
      "Samsung Galaxy S23 5G  79999 95999 4.5 https://m.media-amazon.com/images/I/61OvxXhQgZL._AC_UY218_.jpg https://www.amazon.in//Samsung-Galaxy-Phantom-Black-Storage/dp/B0BT9FZZKP\n",
      "\n",
      "\n",
      "Redmi A2  6199 9999 3.8 https://m.media-amazon.com/images/I/81RR0TAz+5L._AC_UY218_.jpg https://www.amazon.in//Redmi-Aqua-Blue-64GB-Storage/dp/B0C74LZSQB\n",
      "\n",
      "\n",
      "realme narzo 60 5G  18499 20999 4.1 https://m.media-amazon.com/images/I/71r5svsNKyL._AC_UY218_.jpg https://www.amazon.in//realme-Cosmic-Display-SUPERVOOC-Charger/dp/B0C78B7KQH\n",
      "\n",
      "\n",
      "OnePlus Nord CE 3 Lite 5G  19999  4.1 https://m.media-amazon.com/images/I/61LB+d0vheL._AC_UY218_.jpg https://www.amazon.in//OnePlus-Nord-Chromatic-128GB-Storage/dp/B0BY8MCQ9S\n",
      "\n",
      "\n",
      "Vivo Y02t  8999 15999 4.0 https://m.media-amazon.com/images/I/51Kc8y7X+3L._AC_UY218_.jpg https://www.amazon.in//Vivo-Sunset-Storage-Additional-Exchange/dp/B07WFPLX4V\n",
      "\n",
      "\n",
      "OnePlus Nord CE 3 5G  28999  4.0 https://m.media-amazon.com/images/I/61abLrCfF7L._AC_UY218_.jpg https://www.amazon.in//OnePlus-Nord-Shimmer-256GB-Storage/dp/B0C9QPBZD9\n",
      "\n",
      "\n",
      "Xiaomi Redmi 10 Power  10999 18999 4.1 https://m.media-amazon.com/images/I/71BiCb7N5YL._AC_UY218_.jpg https://www.amazon.in//Redmi-Power-Black-128GB-Storage/dp/B09Y64H8VS\n",
      "\n",
      "\n",
      "Samsung Galaxy M13  9199 14999 4.1 https://m.media-amazon.com/images/I/812YsUxpyfL._AC_UY218_.jpg https://www.amazon.in//Samsung-Midnight-Storage-6000mAh-Battery/dp/B0B4F52B5X\n",
      "\n",
      "\n"
     ]
    }
   ],
   "source": [
    "f=open('extracted_data.csv','wb')\n",
    "f.write('Final_name,MRP,Price,Rating,ImageURL,Buying_Links\\n'.encode())\n",
    "for contain in container:\n",
    "    # Name of the Product\n",
    "    product_name = contain.find('span',{'class':'a-size-medium a-color-base a-text-normal'})\n",
    "    temp_name = product_name.text.split(\",\")[0]\n",
    "    Final_name = temp_name.split(\"(\")[0]\n",
    "\n",
    "    # Original Price od the Product\n",
    "    mrp = contain.find('span',{'class':'a-price-whole'})\n",
    "    MRP = mrp.text.replace(\",\",\"\")\n",
    "    \n",
    "    # Selling Price of the Product\n",
    "    price = contain.find('span',{'class':'a-price a-text-price'})\n",
    "    try:\n",
    "        Price = price.text.split('₹')[1].replace(\",\",\"\")\n",
    "    except:\n",
    "        Price = \"\"\n",
    "    \n",
    "    # Ratings of the Product\n",
    "    rating = contain.find('span',{'class':'a-icon-alt'})\n",
    "    Rating = rating.text.split()[0]\n",
    "    \n",
    "    # Image URL of the Product\n",
    "    Image = contain.img\n",
    "    ImageURL = Image.get('src')\n",
    "\n",
    "    # Buying Link\n",
    "    links =contain.find('a',{'target':'_blank'})\n",
    "    Links = 'https://www.amazon.in/'+str(links).split(\"\\\"\")[3]\n",
    "    print(Final_name,MRP,Price,Rating,ImageURL,Links)\n",
    "    f.write(f'{Final_name},{MRP},{Price},{Rating},{ImageURL},{Links}\\n'.encode())\n",
    "    print(\"\\n\")\n",
    "f.close()\n"
   ]
  },
  {
   "cell_type": "code",
   "execution_count": null,
   "metadata": {},
   "outputs": [],
   "source": []
  }
 ],
 "metadata": {
  "kernelspec": {
   "display_name": "Python 3",
   "language": "python",
   "name": "python3"
  },
  "language_info": {
   "codemirror_mode": {
    "name": "ipython",
    "version": 3
   },
   "file_extension": ".py",
   "mimetype": "text/x-python",
   "name": "python",
   "nbconvert_exporter": "python",
   "pygments_lexer": "ipython3",
   "version": "3.11.5"
  }
 },
 "nbformat": 4,
 "nbformat_minor": 2
}
