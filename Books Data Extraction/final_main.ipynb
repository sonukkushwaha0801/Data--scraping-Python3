{
 "cells": [
  {
   "cell_type": "markdown",
   "metadata": {},
   "source": [
    "# Books data scraping in URL : https://books.toscrape.com"
   ]
  },
  {
   "cell_type": "markdown",
   "metadata": {},
   "source": [
    "#### Important Python Libraries importing for use."
   ]
  },
  {
   "cell_type": "code",
   "execution_count": 1,
   "metadata": {},
   "outputs": [],
   "source": [
    "import requests\n",
    "from bs4 import BeautifulSoup"
   ]
  },
  {
   "cell_type": "markdown",
   "metadata": {},
   "source": [
    "#### Extracting the important data and stroing data in a CSV file."
   ]
  },
  {
   "cell_type": "code",
   "execution_count": 2,
   "metadata": {},
   "outputs": [
    {
     "data": {
      "text/plain": [
       "23"
      ]
     },
     "execution_count": 2,
     "metadata": {},
     "output_type": "execute_result"
    }
   ],
   "source": [
    "# Opening a CSV File in which complete extracted will be stored\n",
    "f= open(\"data.csv\",'wb')\n",
    "f.write('book Name,Price,Rating\\n'.encode())"
   ]
  },
  {
   "cell_type": "markdown",
   "metadata": {},
   "source": [
    "#### Function that extracts data from the website and than goes to next page and then extract valuable imformation from that site and repeat smae steps until the last page occur and when last page occurs than it ends successfully and ends without giving and error"
   ]
  },
  {
   "cell_type": "code",
   "execution_count": 3,
   "metadata": {},
   "outputs": [
    {
     "name": "stdout",
     "output_type": "stream",
     "text": [
      "https://books.toscrape.com/catalogue/page-2.html\n",
      "https://books.toscrape.com/catalogue/page-3.html\n",
      "https://books.toscrape.com/catalogue/page-4.html\n",
      "https://books.toscrape.com/catalogue/page-5.html\n",
      "https://books.toscrape.com/catalogue/page-6.html\n",
      "https://books.toscrape.com/catalogue/page-7.html\n",
      "https://books.toscrape.com/catalogue/page-8.html\n",
      "https://books.toscrape.com/catalogue/page-9.html\n",
      "https://books.toscrape.com/catalogue/page-10.html\n",
      "https://books.toscrape.com/catalogue/page-11.html\n",
      "https://books.toscrape.com/catalogue/page-12.html\n",
      "https://books.toscrape.com/catalogue/page-13.html\n",
      "https://books.toscrape.com/catalogue/page-14.html\n",
      "https://books.toscrape.com/catalogue/page-15.html\n",
      "https://books.toscrape.com/catalogue/page-16.html\n",
      "https://books.toscrape.com/catalogue/page-17.html\n",
      "https://books.toscrape.com/catalogue/page-18.html\n",
      "https://books.toscrape.com/catalogue/page-19.html\n",
      "https://books.toscrape.com/catalogue/page-20.html\n",
      "https://books.toscrape.com/catalogue/page-21.html\n",
      "https://books.toscrape.com/catalogue/page-22.html\n",
      "https://books.toscrape.com/catalogue/page-23.html\n",
      "https://books.toscrape.com/catalogue/page-24.html\n",
      "https://books.toscrape.com/catalogue/page-25.html\n",
      "https://books.toscrape.com/catalogue/page-26.html\n",
      "https://books.toscrape.com/catalogue/page-27.html\n",
      "https://books.toscrape.com/catalogue/page-28.html\n",
      "https://books.toscrape.com/catalogue/page-29.html\n",
      "https://books.toscrape.com/catalogue/page-30.html\n",
      "https://books.toscrape.com/catalogue/page-31.html\n",
      "https://books.toscrape.com/catalogue/page-32.html\n",
      "https://books.toscrape.com/catalogue/page-33.html\n",
      "https://books.toscrape.com/catalogue/page-34.html\n",
      "https://books.toscrape.com/catalogue/page-35.html\n",
      "https://books.toscrape.com/catalogue/page-36.html\n",
      "https://books.toscrape.com/catalogue/page-37.html\n",
      "https://books.toscrape.com/catalogue/page-38.html\n",
      "https://books.toscrape.com/catalogue/page-39.html\n",
      "https://books.toscrape.com/catalogue/page-40.html\n",
      "https://books.toscrape.com/catalogue/page-41.html\n",
      "https://books.toscrape.com/catalogue/page-42.html\n",
      "https://books.toscrape.com/catalogue/page-43.html\n",
      "https://books.toscrape.com/catalogue/page-44.html\n",
      "https://books.toscrape.com/catalogue/page-45.html\n",
      "https://books.toscrape.com/catalogue/page-46.html\n",
      "https://books.toscrape.com/catalogue/page-47.html\n",
      "https://books.toscrape.com/catalogue/page-48.html\n",
      "https://books.toscrape.com/catalogue/page-49.html\n",
      "https://books.toscrape.com/catalogue/page-50.html\n",
      "end\n"
     ]
    }
   ],
   "source": [
    "def program (link):                                                                                      # Defining of Function\n",
    "    response = requests.get(link)                                                                        # Getting the page code in response\n",
    "    soup = BeautifulSoup(response.text)                                                                  # Extracting the sure code which needed\n",
    "    for data in soup.findAll('li',{'class':'col-xs-6 col-sm-4 col-md-3 col-lg-3'}):                      \n",
    "        # Title of the books:\n",
    "        books_name = str(data.find('a')).split(\"\\\"\")[3].split(\"(\")[0].replace(\",\",\" \")                   # Extracting Only the book name from the site page code\n",
    "\n",
    "        #Price of of the book:\n",
    "        price = float(str(data.find('p',{'class':'price_color'})).split(\"Â£\")[1].split(\"<\")[0])*101.74   # Extracting Only the price from the site page code and converted in Indian Rupees\n",
    "        price = '{:.2f}'.format(price)\n",
    "        # Rating of the book:\n",
    "        rating = str(data.find('p',{'class':\"star-rating\"})).split(\"\\\"\")[1].split()[1]                   # Extracting Only the Rating of the book from the site page code \n",
    "        f.write(f'{books_name},{price},{rating}\\n'.encode())                                             # Writing the Extracted information from the current page into the CSV file \n",
    "    next_page = soup.find('li',{'class':'next'})                                                         # Taking the link of nextpage from the current page\n",
    "    try:\n",
    "        link =str(next_page.find('a')).split(\"\\\"\")[1]                                                    # The Link is available in the page than store it\n",
    "    except:\n",
    "        f.close()                                                                                        # If their is no link for nextpage than close the CSV file and end the code\n",
    "        return \"end\"                                                                                     # When their not will be any link for next pages then it should break the function and should be ended\n",
    "    final_link = 'https://books.toscrape.com/catalogue/'+link                                            # Adding Domain to the link which we get\n",
    "    print(final_link)\n",
    "    return (program(final_link))                                                                         # Using Recursive Function method for going to the next pages  \n",
    "\n",
    "print(program('https://books.toscrape.com/catalogue/page-1.html'))                                       # Starting Page Link"
   ]
  },
  {
   "cell_type": "code",
   "execution_count": null,
   "metadata": {},
   "outputs": [],
   "source": []
  }
 ],
 "metadata": {
  "kernelspec": {
   "display_name": "Python 3",
   "language": "python",
   "name": "python3"
  },
  "language_info": {
   "codemirror_mode": {
    "name": "ipython",
    "version": 3
   },
   "file_extension": ".py",
   "mimetype": "text/x-python",
   "name": "python",
   "nbconvert_exporter": "python",
   "pygments_lexer": "ipython3",
   "version": "3.11.5"
  }
 },
 "nbformat": 4,
 "nbformat_minor": 2
}
